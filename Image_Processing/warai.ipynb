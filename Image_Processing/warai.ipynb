{
 "cells": [
  {
   "cell_type": "code",
   "execution_count": null,
   "metadata": {},
   "outputs": [],
   "source": [
    "import cv2\n",
    "\n",
    "face_cascade_path = 'D:\\jupyter\\package\\opencv\\data\\haarcascades\\haarcascade_frontalface_default.xml'\n",
    "eye_cascade_path = 'D:\\jupyter\\package\\opencv\\data\\haarcascades\\haarcascade_eye.xml'\n",
    "\n",
    "face_cascade = cv2.CascadeClassifier(face_cascade_path)\n",
    "eye_cascade = cv2.CascadeClassifier(eye_cascade_path)\n",
    "\n",
    "imwww = cv2.imread('D:\\jupyter\\Image_Processing\\warai1.jpg')\n",
    "src = cv2.imread('D:\\jupyter\\Image_Processing\\hogepiyo.jpg')\n",
    "src_gray = cv2.cvtColor(src, cv2.COLOR_BGR2GRAY)\n",
    "\n",
    "faces = face_cascade.detectMultiScale(src_gray)\n",
    "\n",
    "for x, y, w, h in faces:\n",
    "    img2 = cv2.resize(imwww, (w, h))\n",
    "    roi = src[y: y + h, x: x + w ]\n",
    "    \n",
    "    img2gray = cv2.cvtColor(img2,cv2.COLOR_BGR2GRAY)\n",
    "    ret, mask = cv2.threshold(img2gray, 10, 255, cv2.THRESH_BINARY)\n",
    "    mask_inv = cv2.bitwise_not(mask)\n",
    "    \n",
    "    img1_bg = cv2.bitwise_and(roi,roi,mask = mask_inv)\n",
    "    img2_fg = cv2.bitwise_and(img2,img2,mask = mask)\n",
    "    \n",
    "    dst = cv2.add(img1_bg,img2_fg)\n",
    "    src[y: y + h, x: x + w ] = dst\n",
    "\n",
    "cv2.imwrite('D:\\jupyter\\Image_Processing\\opencv_face_detect_rectangle.jpg', src)\n",
    "# True"
   ]
  }
 ],
 "metadata": {
  "kernelspec": {
   "display_name": "Python 3",
   "language": "python",
   "name": "python3"
  },
  "language_info": {
   "codemirror_mode": {
    "name": "ipython",
    "version": 3
   },
   "file_extension": ".py",
   "mimetype": "text/x-python",
   "name": "python",
   "nbconvert_exporter": "python",
   "pygments_lexer": "ipython3",
   "version": "3.6.4"
  }
 },
 "nbformat": 4,
 "nbformat_minor": 2
}
